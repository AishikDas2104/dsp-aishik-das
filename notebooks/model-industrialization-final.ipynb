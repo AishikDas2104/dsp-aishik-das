{
 "cells": [
  {
   "cell_type": "code",
   "execution_count": 3,
   "id": "a968b5c9-d7dc-4e2e-9d07-eccb2c1bf6c5",
   "metadata": {},
   "outputs": [
    {
     "name": "stdout",
     "output_type": "stream",
     "text": [
      "{'rmsle': 0.1913}\n"
     ]
    }
   ],
   "source": [
    "import sys\n",
    "import os\n",
    "sys.path.append(os.path.abspath(\"..\"))\n",
    "import pandas as pd\n",
    "from house_prices.train import build_model\n",
    "\n",
    "training_df = pd.read_csv('../data/train.csv')\n",
    "model_performance_dict = build_model(training_df)\n",
    "print(model_performance_dict)"
   ]
  },
  {
   "cell_type": "code",
   "execution_count": 4,
   "id": "7c5f8932-485a-4670-9998-94841993ef97",
   "metadata": {},
   "outputs": [
    {
     "data": {
      "text/plain": [
       "array([118364.81638601, 152780.54443339, 179642.27787939, 180079.27130603,\n",
       "       188023.32069828, 177977.75823277, 158559.16366452, 179285.25359778,\n",
       "       183370.82717618, 108855.35693536])"
      ]
     },
     "execution_count": 4,
     "metadata": {},
     "output_type": "execute_result"
    }
   ],
   "source": [
    "from house_prices.inference import make_predictions\n",
    "import pandas as pd\n",
    "\n",
    "inference_df = pd.read_csv('../data/test.csv')\n",
    "inference_df = inference_df[['GrLivArea','TotalBsmtSF','Neighborhood','HouseStyle']]\n",
    "predictions = make_predictions(inference_df)\n",
    "predictions[:10]"
   ]
  },
  {
   "cell_type": "code",
   "execution_count": null,
   "id": "5ebd729e-54c2-4331-a13a-d970e2ab9d0b",
   "metadata": {},
   "outputs": [],
   "source": []
  }
 ],
 "metadata": {
  "kernelspec": {
   "display_name": "Python 3 (ipykernel)",
   "language": "python",
   "name": "python3"
  },
  "language_info": {
   "codemirror_mode": {
    "name": "ipython",
    "version": 3
   },
   "file_extension": ".py",
   "mimetype": "text/x-python",
   "name": "python",
   "nbconvert_exporter": "python",
   "pygments_lexer": "ipython3",
   "version": "3.10.2"
  }
 },
 "nbformat": 4,
 "nbformat_minor": 5
}
