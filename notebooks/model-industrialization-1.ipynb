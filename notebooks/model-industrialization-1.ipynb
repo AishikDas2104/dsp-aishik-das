{
 "cells": [
  {
   "cell_type": "code",
   "execution_count": 4,
   "id": "5756c869-3a23-402b-843a-34c7adccefa1",
   "metadata": {},
   "outputs": [],
   "source": [
    "import sys\n",
    "import os\n",
    "sys.path.append(os.path.abspath(\"..\"))\n"
   ]
  },
  {
   "cell_type": "code",
   "execution_count": 2,
   "id": "627d53d8-729e-4e4e-846c-bee2e58f6b4d",
   "metadata": {},
   "outputs": [
    {
     "data": {
      "text/plain": [
       "(1460, 81)"
      ]
     },
     "execution_count": 2,
     "metadata": {},
     "output_type": "execute_result"
    }
   ],
   "source": [
    "import pandas as pd\n",
    "from house_prices.train import build_model\n",
    "df = pd.read_csv(\"../data/train.csv\")\n",
    "df.shape"
   ]
  },
  {
   "cell_type": "code",
   "execution_count": 3,
   "id": "38831b5c-2209-42aa-bb98-2e0f886c90d4",
   "metadata": {},
   "outputs": [
    {
     "name": "stdout",
     "output_type": "stream",
     "text": [
      "{'rmsle': 0.1913}\n"
     ]
    }
   ],
   "source": [
    "from house_prices.train import build_model\n",
    "perf = build_model(df)\n",
    "print(perf)"
   ]
  },
  {
   "cell_type": "code",
   "execution_count": 5,
   "id": "b323b862-afef-4a71-8c9b-1705971fd5ed",
   "metadata": {},
   "outputs": [
    {
     "name": "stdout",
     "output_type": "stream",
     "text": [
      "[118364.81638601 152780.54443339 179642.27787939 180079.27130603\n",
      " 188023.32069828]\n"
     ]
    }
   ],
   "source": [
    "from house_prices.inference import make_predictions\n",
    "\n",
    "df_test = pd.read_csv(\"../data/test.csv\")\n",
    "sample = df_test.head(10).copy()\n",
    "sample = sample[['GrLivArea','TotalBsmtSF','Neighborhood','HouseStyle']].copy()\n",
    "preds = make_predictions(sample)\n",
    "print(preds[:5])\n"
   ]
  },
  {
   "cell_type": "code",
   "execution_count": null,
   "id": "f9c1275f-669b-466f-80c7-e62413eb0ee4",
   "metadata": {},
   "outputs": [],
   "source": []
  }
 ],
 "metadata": {
  "kernelspec": {
   "display_name": "Python 3 (ipykernel)",
   "language": "python",
   "name": "python3"
  },
  "language_info": {
   "codemirror_mode": {
    "name": "ipython",
    "version": 3
   },
   "file_extension": ".py",
   "mimetype": "text/x-python",
   "name": "python",
   "nbconvert_exporter": "python",
   "pygments_lexer": "ipython3",
   "version": "3.10.2"
  }
 },
 "nbformat": 4,
 "nbformat_minor": 5
}
